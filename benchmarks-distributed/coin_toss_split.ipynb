{
 "cells": [
  {
   "cell_type": "code",
   "execution_count": 1,
   "metadata": {
    "metadata": {}
   },
   "outputs": [
    {
     "name": "stderr",
     "output_type": "stream",
     "text": [
      "\u001b[32m\u001b[1m  Activating\u001b[22m\u001b[39m project at `c:\\Users\\matti\\Documents\\TUe\\Thesis\\ThesisParallelMP`\n"
     ]
    }
   ],
   "source": [
    "import Pkg; Pkg.activate(\"..\"); Pkg.instantiate();"
   ]
  },
  {
   "cell_type": "code",
   "execution_count": 2,
   "metadata": {},
   "outputs": [],
   "source": [
    "using Distributed"
   ]
  },
  {
   "cell_type": "code",
   "execution_count": 3,
   "metadata": {},
   "outputs": [],
   "source": [
    "addprocs(8);"
   ]
  },
  {
   "cell_type": "code",
   "execution_count": 4,
   "metadata": {},
   "outputs": [],
   "source": [
    "@everywhere using RxInfer, Random, StatsPlots, LinearAlgebra, ProgressMeter, PGFPlotsX, Revise"
   ]
  },
  {
   "cell_type": "code",
   "execution_count": 5,
   "metadata": {},
   "outputs": [],
   "source": [
    "@everywhere includet(\"../distributed.jl\")"
   ]
  },
  {
   "cell_type": "code",
   "execution_count": 6,
   "metadata": {
    "metadata": {}
   },
   "outputs": [
    {
     "data": {
      "text/plain": [
       "Plots.PGFPlotsXBackend()"
      ]
     },
     "execution_count": 6,
     "metadata": {},
     "output_type": "execute_result"
    }
   ],
   "source": [
    "pgfplotsx()"
   ]
  },
  {
   "cell_type": "code",
   "execution_count": 7,
   "metadata": {},
   "outputs": [],
   "source": [
    "@everywhere begin\n",
    "    n = 200  # Number of coin flips\n",
    "    p = 0.75 # Bias of a coin\n",
    "\n",
    "    distribution = Bernoulli(p)\n",
    "    dataset      = float.(rand(Bernoulli(p), n))\n",
    "    prior = Beta(2.0, 6.0)\n",
    "end"
   ]
  },
  {
   "cell_type": "code",
   "execution_count": 8,
   "metadata": {},
   "outputs": [],
   "source": [
    "@everywhere begin\n",
    "    @model function coin_model(n, prior, prod_strategy, pipeline, meta, prod_constraint)\n",
    "\n",
    "        y = datavar(Float64, n)\n",
    "        θ = randomvar() where { prod_strategy = prod_strategy, prod_constraint = prod_constraint }\n",
    "\n",
    "        θ ~ prior\n",
    "\n",
    "        for i in 1:n\n",
    "            y[i] ~ Bernoulli(θ) where { pipeline = pipeline, meta = meta  }\n",
    "        end\n",
    "\n",
    "    end\n",
    "end"
   ]
  },
  {
   "cell_type": "code",
   "execution_count": 9,
   "metadata": {},
   "outputs": [],
   "source": [
    "@everywhere begin\n",
    "    struct MyCustomRule\n",
    "        size::Int\n",
    "    end\n",
    "\n",
    "    function factorial(n)\n",
    "        if n == 0 || n == 1\n",
    "            return 1\n",
    "        else\n",
    "            return factorial(n - 1) + factorial(n - 2)\n",
    "        end\n",
    "    end\n",
    "\n",
    "    @rule Bernoulli(:p, Marginalisation) (q_out::PointMass, meta::MyCustomRule) = begin\n",
    "        @logscale -log(2)\n",
    "        r = mean(q_out)\n",
    "        s = factorial(meta.size) / 10^8\n",
    "        return Beta(one(r) + r, 2one(r) - r + s)\n",
    "    end\n",
    "end"
   ]
  },
  {
   "cell_type": "code",
   "execution_count": 10,
   "metadata": {},
   "outputs": [],
   "source": [
    "struct MyCustomProd\n",
    "    size::Int\n",
    "end\n",
    "\n",
    "function RxInfer.BayesBase.prod(custom::MyCustomProd, left, right)\n",
    "    r = mean(left)\n",
    "\ts = factorial(custom.size) / 10^8\n",
    "    return prod(GenericProd(), Beta(one(r) + r, 2one(r) - r + s), right)\n",
    "end\n",
    "\n",
    "function RxInfer.BayesBase.prod(custom::MyCustomProd, left::Missing, right)\n",
    "    return right\n",
    "end"
   ]
  },
  {
   "cell_type": "code",
   "execution_count": 23,
   "metadata": {
    "metadata": {}
   },
   "outputs": [
    {
     "data": {
      "text/plain": [
       "Inference results:\n",
       "  Posteriors       | available for (θ)\n"
      ]
     },
     "execution_count": 23,
     "metadata": {},
     "output_type": "execute_result"
    }
   ],
   "source": [
    "result_full = infer(\n",
    "    model = coin_model(length(dataset), prior, nothing, nothing, MyCustomRule(1), nothing),\n",
    "    data  = (y = dataset, ),\n",
    "    iterations = 1\n",
    ")"
   ]
  },
  {
   "cell_type": "code",
   "execution_count": 24,
   "metadata": {
    "metadata": {}
   },
   "outputs": [
    {
     "data": {
      "text/plain": [
       "1-element Vector{Beta{Float64}}:\n",
       " Beta{Float64}(α=139.0, β=69.00000200000001)"
      ]
     },
     "execution_count": 24,
     "metadata": {},
     "output_type": "execute_result"
    }
   ],
   "source": [
    "result_full.posteriors[:θ]"
   ]
  },
  {
   "cell_type": "code",
   "execution_count": 14,
   "metadata": {
    "metadata": {}
   },
   "outputs": [
    {
     "data": {
      "text/plain": [
       "RemoteChannel{Channel{Any}}(1, 1, 210)"
      ]
     },
     "execution_count": 14,
     "metadata": {},
     "output_type": "execute_result"
    }
   ],
   "source": [
    "channel = RemoteChannel(1)"
   ]
  },
  {
   "cell_type": "code",
   "execution_count": 25,
   "metadata": {
    "metadata": {}
   },
   "outputs": [
    {
     "name": "stdout",
     "output_type": "stream",
     "text": [
      "Time: 0.2612629\n"
     ]
    }
   ],
   "source": [
    "res_prod = Vector{Any}(undef, 1)\n",
    "start = time_ns()\n",
    "\n",
    "infer(\n",
    "    model = coin_model(Int(length(dataset) / 2), prior, nothing, nothing, MyCustomRule(1), nothing),\n",
    "    data  = (y = dataset[1:Int(length(dataset) / 2)], ),\n",
    "    callbacks = (\n",
    "        after_iteration = (model, iteration) -> begin\n",
    "            put!(channel, ReactiveMP.getdata(Rocket.getrecent(model.variables.random[1].marginal)))\n",
    "            return false\n",
    "        end,\n",
    "    ),\n",
    "    iterations = 1\n",
    ")\n",
    "\n",
    "results_split = infer(\n",
    "    model = coin_model(Int(length(dataset) / 2), prior, nothing, nothing, MyCustomRule(1), nothing),\n",
    "    data  = (y = dataset[Int(length(dataset) / 2)+1:end], ),\n",
    "    callbacks = (\n",
    "        after_iteration = (model, iteration) -> begin\n",
    "            res_prod[1] = prod(GenericProd(), take!(channel), ReactiveMP.getdata(Rocket.getrecent(model.variables.random[1].marginal)))\n",
    "            return false\n",
    "        end,\n",
    "    ),\n",
    "    iterations = 1\n",
    ")\n",
    "\n",
    "println(\"Time: \", (time_ns() - start) / 1e9)"
   ]
  },
  {
   "cell_type": "code",
   "execution_count": 26,
   "metadata": {
    "metadata": {}
   },
   "outputs": [
    {
     "data": {
      "text/plain": [
       "Beta{Float64}(α=140.0, β=74.00000200000015)"
      ]
     },
     "execution_count": 26,
     "metadata": {},
     "output_type": "execute_result"
    }
   ],
   "source": [
    "res_prod[1]"
   ]
  },
  {
   "cell_type": "code",
   "execution_count": 32,
   "metadata": {
    "metadata": {}
   },
   "outputs": [
    {
     "name": "stdout",
     "output_type": "stream",
     "text": [
      "Time: 0.185384\n"
     ]
    }
   ],
   "source": [
    "res_prod = Vector{Any}(undef, 1)\n",
    "start = time_ns()\n",
    "\n",
    "@spawnat 2 infer(\n",
    "    model = coin_model(Int(length(dataset) / 2), prior, nothing, nothing, MyCustomRule(1), nothing),\n",
    "    data  = (y = dataset[1:Int(length(dataset) / 2)], ),\n",
    "    callbacks = (\n",
    "        after_iteration = (model, iteration) -> begin\n",
    "            put!(channel, ReactiveMP.getdata(Rocket.getrecent(model.variables.random[1].marginal)))\n",
    "            return false\n",
    "        end,\n",
    "    ),\n",
    "    iterations = 1\n",
    ")\n",
    "\n",
    "results_split = infer(\n",
    "    model = coin_model(Int(length(dataset) / 2), prior, nothing, nothing, MyCustomRule(1), nothing),\n",
    "    data  = (y = dataset[Int(length(dataset) / 2)+1:end], ),\n",
    "    callbacks = (\n",
    "        after_iteration = (model, iteration) -> begin\n",
    "            res_prod[1] = prod(GenericProd(), take!(channel), ReactiveMP.getdata(Rocket.getrecent(model.variables.random[1].marginal)))\n",
    "            return false\n",
    "        end,\n",
    "    ),\n",
    "    iterations = 1\n",
    ")\n",
    "\n",
    "println(\"Time: \", (time_ns() - start) / 1e9)"
   ]
  },
  {
   "cell_type": "code",
   "execution_count": 33,
   "metadata": {
    "metadata": {}
   },
   "outputs": [
    {
     "data": {
      "text/plain": [
       "Beta{Float64}(α=140.0, β=74.00000200000015)"
      ]
     },
     "execution_count": 33,
     "metadata": {},
     "output_type": "execute_result"
    }
   ],
   "source": [
    "res_prod[1]"
   ]
  }
 ],
 "metadata": {
  "kernelspec": {
   "display_name": "Julia 1.10.0",
   "language": "julia",
   "name": "julia-1.10"
  },
  "language_info": {
   "file_extension": ".jl",
   "mimetype": "application/julia",
   "name": "julia",
   "version": "1.10.0"
  }
 },
 "nbformat": 4,
 "nbformat_minor": 2
}
