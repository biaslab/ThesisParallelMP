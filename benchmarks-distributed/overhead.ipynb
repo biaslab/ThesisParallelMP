{
 "cells": [
  {
   "cell_type": "code",
   "execution_count": 65,
   "metadata": {},
   "outputs": [],
   "source": [
    "using Distributed"
   ]
  },
  {
   "cell_type": "code",
   "execution_count": 66,
   "metadata": {},
   "outputs": [
    {
     "data": {
      "text/plain": [
       "100000"
      ]
     },
     "execution_count": 66,
     "metadata": {},
     "output_type": "execute_result"
    }
   ],
   "source": [
    "n = 10^5"
   ]
  },
  {
   "cell_type": "code",
   "execution_count": 67,
   "metadata": {},
   "outputs": [
    {
     "data": {
      "text/plain": [
       "time_no_parallel (generic function with 1 method)"
      ]
     },
     "execution_count": 67,
     "metadata": {},
     "output_type": "execute_result"
    }
   ],
   "source": [
    "function time_no_parallel()\n",
    "    start = time_ns()\n",
    "\n",
    "    for i in 1:n\n",
    "        x = i^2\n",
    "    end\n",
    "\n",
    "    return (time_ns() - start)\n",
    "end"
   ]
  },
  {
   "cell_type": "code",
   "execution_count": 68,
   "metadata": {},
   "outputs": [
    {
     "data": {
      "text/plain": [
       "time_multithreading (generic function with 1 method)"
      ]
     },
     "execution_count": 68,
     "metadata": {},
     "output_type": "execute_result"
    }
   ],
   "source": [
    "function time_multithreading()\n",
    "    start = time_ns()\n",
    "\n",
    "    for i in 1:n\n",
    "        Threads.@spawn x = i^2\n",
    "    end\n",
    "\n",
    "    return (time_ns() - start)\n",
    "end"
   ]
  },
  {
   "cell_type": "code",
   "execution_count": 69,
   "metadata": {},
   "outputs": [
    {
     "data": {
      "text/plain": [
       "time_distributed (generic function with 1 method)"
      ]
     },
     "execution_count": 69,
     "metadata": {},
     "output_type": "execute_result"
    }
   ],
   "source": [
    "function time_distributed()\n",
    "    start = time_ns()\n",
    "\n",
    "    for i in 1:n\n",
    "        @spawnat 1 x = i^2\n",
    "    end\n",
    "\n",
    "    return (time_ns() - start)\n",
    "end"
   ]
  },
  {
   "cell_type": "code",
   "execution_count": 70,
   "metadata": {},
   "outputs": [
    {
     "data": {
      "text/plain": [
       "0x000000001bb2918c"
      ]
     },
     "execution_count": 70,
     "metadata": {},
     "output_type": "execute_result"
    }
   ],
   "source": [
    "no_parallel_time = time_no_parallel()\n",
    "multithreading_time = time_multithreading()\n",
    "distributed_time = time_distributed()"
   ]
  },
  {
   "cell_type": "code",
   "execution_count": 71,
   "metadata": {},
   "outputs": [
    {
     "data": {
      "text/plain": [
       "4539.582"
      ]
     },
     "execution_count": 71,
     "metadata": {},
     "output_type": "execute_result"
    }
   ],
   "source": [
    "multithreading_overhead = (multithreading_time - no_parallel_time) / n\n",
    "distributed_overhead = (distributed_time - no_parallel_time) / n"
   ]
  },
  {
   "cell_type": "code",
   "execution_count": 72,
   "metadata": {},
   "outputs": [
    {
     "name": "stdout",
     "output_type": "stream",
     "text": [
      "Multithreading overhead: 374.361 ns\n",
      "Distributed overhead: 4539.582 ns\n"
     ]
    }
   ],
   "source": [
    "println(\"Multithreading overhead: $multithreading_overhead ns\")\n",
    "println(\"Distributed overhead: $distributed_overhead ns\")"
   ]
  }
 ],
 "metadata": {
  "kernelspec": {
   "display_name": "Julia 1.10.0",
   "language": "julia",
   "name": "julia-1.10"
  },
  "language_info": {
   "file_extension": ".jl",
   "mimetype": "application/julia",
   "name": "julia",
   "version": "1.10.0"
  }
 },
 "nbformat": 4,
 "nbformat_minor": 2
}
